{
 "cells": [
  {
   "cell_type": "markdown",
   "metadata": {},
   "source": [
    "# Importing Dependencies\n"
   ]
  },
  {
   "cell_type": "code",
   "execution_count": 44,
   "metadata": {},
   "outputs": [],
   "source": [
    "import tensorflow as tf\n",
    "import numpy as np\n",
    "import pandas as pd"
   ]
  },
  {
   "cell_type": "markdown",
   "metadata": {},
   "source": [
    "## Loading Pretrained Model"
   ]
  },
  {
   "cell_type": "code",
   "execution_count": 63,
   "metadata": {},
   "outputs": [],
   "source": [
    "model = tf.keras.models.load_model(\"/Users/imac/Desktop/Alexnet-Lenet-Image Classification/ultimate_LeNet_model\")"
   ]
  },
  {
   "cell_type": "markdown",
   "metadata": {},
   "source": [
    "### Unomment following to predict label of image directly with URL"
   ]
  },
  {
   "cell_type": "code",
   "execution_count": null,
   "metadata": {},
   "outputs": [],
   "source": [
    "# \"\"\"import matplotlib.pyplot as plt\n",
    "# import numpy as np\n",
    "# from keras.preprocessing import image\n",
    "# from PIL import Image\n",
    "# ########\n",
    "# import requests\n",
    "# from io import BytesIO\n",
    "# response = requests.get('https://www.dnanews.com.pk/wp-content/uploads/2018/12/xToyota-xli-1024-e1544701002810.jpg.pagespeed.ic_.pEbaoO_yBW.jpg')\n",
    "# test_image = Image.open(BytesIO(response.content))\n",
    "# ########\n",
    "# #test_image = image.load_img('/Users/imac/Desktop/')\n",
    "# plt.imshow(test_image)\n",
    "# plt.title('This is my Image for Testing')\n",
    "# test_image = test_image.resize((32, 32), Image.ANTIALIAS)\n",
    "# test_image = image.img_to_array(test_image)\n",
    "# test_image = np.expand_dims(test_image,axis=0)\n",
    "# print(\"Predicted Class is\")\n",
    "# print(model.predict_classes(test_image)[0])\"\"\""
   ]
  },
  {
   "cell_type": "code",
   "execution_count": null,
   "metadata": {},
   "outputs": [],
   "source": []
  },
  {
   "cell_type": "markdown",
   "metadata": {},
   "source": [
    "####  Data (Image) Augmentation"
   ]
  },
  {
   "cell_type": "code",
   "execution_count": null,
   "metadata": {},
   "outputs": [],
   "source": [
    "# pip install augmentor"
   ]
  },
  {
   "cell_type": "code",
   "execution_count": null,
   "metadata": {},
   "outputs": [],
   "source": [
    "# import Augmentor\n",
    "# p = Augmentor.Pipeline(\"/Users/imac/Desktop/image-dataset/_train/cat\")"
   ]
  },
  {
   "cell_type": "code",
   "execution_count": null,
   "metadata": {},
   "outputs": [],
   "source": [
    "# p.rotate(probability=0.5, max_left_rotation=10, max_right_rotation=10)\n",
    "# p.zoom(probability=0.5, min_factor=1.1, max_factor=1.5)\n",
    "# p.flip_random(probability=0.5)"
   ]
  },
  {
   "cell_type": "code",
   "execution_count": null,
   "metadata": {},
   "outputs": [],
   "source": [
    "# p.sample(1500)"
   ]
  },
  {
   "cell_type": "markdown",
   "metadata": {},
   "source": [
    "### Setting Paths of Images and Respective Labels in Dataframes"
   ]
  },
  {
   "cell_type": "code",
   "execution_count": 30,
   "metadata": {},
   "outputs": [],
   "source": [
    "path=[]\n",
    "label=[]\n",
    "import os\n",
    "for dirname, _, filenames in os.walk('/Users/imac/Desktop/image-dataset/_train'):\n",
    "    for filename in filenames:\n",
    "        path.append(os.path.join(dirname, filename))    \n",
    "        label.append(os.path.basename(dirname))"
   ]
  },
  {
   "cell_type": "code",
   "execution_count": 31,
   "metadata": {},
   "outputs": [],
   "source": [
    "df_train = pd.DataFrame(list(zip(path, label)), \n",
    "               columns =['Path', 'Label'])"
   ]
  },
  {
   "cell_type": "code",
   "execution_count": 36,
   "metadata": {},
   "outputs": [
    {
     "data": {
      "text/plain": [
       "array(['cat', 'car', 'fruit', 'dog', 'person', 'flower', 'motorbike',\n",
       "       'airplane'], dtype=object)"
      ]
     },
     "execution_count": 36,
     "metadata": {},
     "output_type": "execute_result"
    }
   ],
   "source": [
    "df_train=df_train[1:-1]\n",
    "df_train['Label'].unique()"
   ]
  },
  {
   "cell_type": "code",
   "execution_count": null,
   "metadata": {},
   "outputs": [],
   "source": [
    "# path=[]\n",
    "# label=[]\n",
    "# import os\n",
    "# for dirname, _, filenames in os.walk('/Users/imac/Desktop/image-dataset/_train/cat/output'):\n",
    "#     for filename in filenames:\n",
    "#         if ((os.path.basename(dirname))==\"output\"):\n",
    "#             path.append(os.path.join(dirname, filename))    \n",
    "#             label.append('cat')"
   ]
  },
  {
   "cell_type": "code",
   "execution_count": null,
   "metadata": {},
   "outputs": [],
   "source": [
    "# df_train_augmented = pd.DataFrame(list(zip(path, label)), \n",
    "#                columns =['Path', 'Label'])"
   ]
  },
  {
   "cell_type": "code",
   "execution_count": null,
   "metadata": {},
   "outputs": [],
   "source": [
    "# df_train_augmented['Path']"
   ]
  },
  {
   "cell_type": "code",
   "execution_count": null,
   "metadata": {},
   "outputs": [],
   "source": [
    "# df_train['Path'][0]"
   ]
  },
  {
   "cell_type": "code",
   "execution_count": null,
   "metadata": {},
   "outputs": [],
   "source": [
    "# df_train=pd.concat([df_train, df_train_augmented])"
   ]
  },
  {
   "cell_type": "code",
   "execution_count": null,
   "metadata": {},
   "outputs": [],
   "source": [
    "df_train"
   ]
  },
  {
   "cell_type": "code",
   "execution_count": 37,
   "metadata": {},
   "outputs": [],
   "source": [
    "path=[]\n",
    "label=[]\n",
    "import os\n",
    "for dirname, _, filenames in os.walk('/Users/imac/Desktop/image-dataset/_test'):\n",
    "    for filename in filenames:\n",
    "        path.append(os.path.join(dirname, filename))    \n",
    "        label.append(os.path.basename(dirname))"
   ]
  },
  {
   "cell_type": "code",
   "execution_count": 38,
   "metadata": {},
   "outputs": [],
   "source": [
    "df_test = pd.DataFrame(list(zip(path, label)), \n",
    "               columns =['Path', 'Label'])"
   ]
  },
  {
   "cell_type": "code",
   "execution_count": 43,
   "metadata": {},
   "outputs": [],
   "source": [
    "df_test=df_test[1:-1]"
   ]
  },
  {
   "cell_type": "code",
   "execution_count": null,
   "metadata": {},
   "outputs": [],
   "source": [
    "# path=[]\n",
    "# label=[]\n",
    "# import os\n",
    "# for dirname, _, filenames in os.walk('/Users/imac/Desktop/image-dataset/_test/cat/output'):\n",
    "#     for filename in filenames:\n",
    "#         if ((os.path.basename(dirname))==\"output\"):\n",
    "#             path.append(os.path.join(dirname, filename))    \n",
    "#             label.append('cat')"
   ]
  },
  {
   "cell_type": "code",
   "execution_count": null,
   "metadata": {},
   "outputs": [],
   "source": [
    "# df_test_augmented = pd.DataFrame(list(zip(path, label)), \n",
    "#                columns =['Path', 'Label'])"
   ]
  },
  {
   "cell_type": "code",
   "execution_count": null,
   "metadata": {},
   "outputs": [],
   "source": [
    "# df_test=pd.concat([df_test, df_test_augmented])"
   ]
  },
  {
   "cell_type": "code",
   "execution_count": null,
   "metadata": {},
   "outputs": [],
   "source": []
  },
  {
   "cell_type": "code",
   "execution_count": null,
   "metadata": {},
   "outputs": [],
   "source": [
    "# import tensorflow as tf"
   ]
  },
  {
   "cell_type": "markdown",
   "metadata": {},
   "source": [
    "##### Shuffle DataFrames"
   ]
  },
  {
   "cell_type": "code",
   "execution_count": 45,
   "metadata": {},
   "outputs": [],
   "source": [
    "from sklearn.utils import shuffle\n",
    "df_train = shuffle(df_train)\n",
    "df_test = shuffle(df_test)"
   ]
  },
  {
   "cell_type": "markdown",
   "metadata": {},
   "source": [
    "##### Get Data in Batches"
   ]
  },
  {
   "cell_type": "code",
   "execution_count": 46,
   "metadata": {},
   "outputs": [],
   "source": [
    "from keras.preprocessing.image import ImageDataGenerator"
   ]
  },
  {
   "cell_type": "code",
   "execution_count": 47,
   "metadata": {},
   "outputs": [],
   "source": [
    "datagen=ImageDataGenerator(rescale=1./255.)"
   ]
  },
  {
   "cell_type": "code",
   "execution_count": 48,
   "metadata": {},
   "outputs": [
    {
     "name": "stdout",
     "output_type": "stream",
     "text": [
      "Found 5952 validated image filenames belonging to 8 classes.\n",
      "Found 933 validated image filenames belonging to 8 classes.\n"
     ]
    },
    {
     "name": "stderr",
     "output_type": "stream",
     "text": [
      "/usr/local/Cellar/jupyterlab/2.2.5/libexec/lib/python3.8/site-packages/keras_preprocessing/image/dataframe_iterator.py:279: UserWarning: Found 1 invalid image filename(s) in x_col=\"Path\". These filename(s) will be ignored.\n",
      "  warnings.warn(\n",
      "/usr/local/Cellar/jupyterlab/2.2.5/libexec/lib/python3.8/site-packages/keras_preprocessing/image/dataframe_iterator.py:279: UserWarning: Found 1 invalid image filename(s) in x_col=\"Path\". These filename(s) will be ignored.\n",
      "  warnings.warn(\n"
     ]
    }
   ],
   "source": [
    "train_generator=datagen.flow_from_dataframe(\n",
    "dataframe=df_train,\n",
    "directory=None,\n",
    "x_col=\"Path\",\n",
    "y_col=\"Label\",\n",
    "subset=\"training\",\n",
    "batch_size=32,\n",
    "seed=42,\n",
    "shuffle=True,\n",
    "class_mode=\"categorical\",\n",
    "target_size=(32,32))\n",
    "\n",
    "test_datagen=ImageDataGenerator(rescale=1./255.)\n",
    "test_generator=test_datagen.flow_from_dataframe(\n",
    "dataframe=df_test,\n",
    "directory=None,\n",
    "x_col=\"Path\",\n",
    "y_col=\"Label\",\n",
    "batch_size=32,\n",
    "seed=42,\n",
    "shuffle=False,\n",
    "class_mode=\"categorical\",\n",
    "target_size=(32,32))"
   ]
  },
  {
   "cell_type": "code",
   "execution_count": null,
   "metadata": {},
   "outputs": [],
   "source": []
  },
  {
   "cell_type": "code",
   "execution_count": null,
   "metadata": {},
   "outputs": [],
   "source": []
  },
  {
   "cell_type": "code",
   "execution_count": null,
   "metadata": {},
   "outputs": [],
   "source": [
    "# model = tf.keras.models.load_model(\"ultimate_LeNet_model\")\n",
    "# model.summary()"
   ]
  },
  {
   "cell_type": "code",
   "execution_count": null,
   "metadata": {},
   "outputs": [],
   "source": [
    "# model.layers[0].trainable=True\n",
    "# model.layers[1].trainable=True\n",
    "# model.layers[2].trainable=True\n",
    "# model.layers[3].trainable=True\n",
    "# model.layers[4].trainable=True\n",
    "# model.layers[5].trainable=True\n",
    "# model.layers[6].trainable=True\n",
    "# model.layers[7].trainable=True"
   ]
  },
  {
   "cell_type": "markdown",
   "metadata": {},
   "source": [
    "#### Removing Last(Classification) Layer and Adding New Classification Layer"
   ]
  },
  {
   "cell_type": "code",
   "execution_count": 51,
   "metadata": {},
   "outputs": [],
   "source": [
    "from tensorflow.keras.models import Sequential,Model\n",
    "from tensorflow.keras.layers import Dense,Flatten,Softmax"
   ]
  },
  {
   "cell_type": "code",
   "execution_count": 79,
   "metadata": {},
   "outputs": [
    {
     "name": "stdout",
     "output_type": "stream",
     "text": [
      "Model: \"sequential_2\"\n",
      "_________________________________________________________________\n",
      "Layer (type)                 Output Shape              Param #   \n",
      "=================================================================\n",
      "conv2d_4 (Conv2D)            (None, 30, 30, 6)         168       \n",
      "_________________________________________________________________\n",
      "average_pooling2d_4 (Average (None, 15, 15, 6)         0         \n",
      "_________________________________________________________________\n",
      "conv2d_5 (Conv2D)            (None, 13, 13, 16)        880       \n",
      "_________________________________________________________________\n",
      "average_pooling2d_5 (Average (None, 6, 6, 16)          0         \n",
      "_________________________________________________________________\n",
      "flatten_2 (Flatten)          (None, 576)               0         \n",
      "_________________________________________________________________\n",
      "dense_6 (Dense)              (None, 120)               69240     \n",
      "_________________________________________________________________\n",
      "dense_7 (Dense)              (None, 84)                10164     \n",
      "=================================================================\n",
      "Total params: 80,452\n",
      "Trainable params: 80,452\n",
      "Non-trainable params: 0\n",
      "_________________________________________________________________\n"
     ]
    }
   ],
   "source": [
    "model.pop()\n",
    "model.summary()"
   ]
  },
  {
   "cell_type": "code",
   "execution_count": 65,
   "metadata": {},
   "outputs": [],
   "source": [
    "for layer in model.layers[:-1]: # go through until last layer\n",
    "    pass\n",
    "model.add(Dense(8, activation='softmax'))"
   ]
  },
  {
   "cell_type": "code",
   "execution_count": 70,
   "metadata": {},
   "outputs": [
    {
     "name": "stdout",
     "output_type": "stream",
     "text": [
      "Model: \"sequential_2\"\n",
      "_________________________________________________________________\n",
      "Layer (type)                 Output Shape              Param #   \n",
      "=================================================================\n",
      "conv2d_4 (Conv2D)            (None, 30, 30, 6)         168       \n",
      "_________________________________________________________________\n",
      "average_pooling2d_4 (Average (None, 15, 15, 6)         0         \n",
      "_________________________________________________________________\n",
      "conv2d_5 (Conv2D)            (None, 13, 13, 16)        880       \n",
      "_________________________________________________________________\n",
      "average_pooling2d_5 (Average (None, 6, 6, 16)          0         \n",
      "_________________________________________________________________\n",
      "flatten_2 (Flatten)          (None, 576)               0         \n",
      "_________________________________________________________________\n",
      "dense_6 (Dense)              (None, 120)               69240     \n",
      "_________________________________________________________________\n",
      "dense_7 (Dense)              (None, 84)                10164     \n",
      "_________________________________________________________________\n",
      "dense_3 (Dense)              (None, 8)                 680       \n",
      "=================================================================\n",
      "Total params: 81,132\n",
      "Trainable params: 81,132\n",
      "Non-trainable params: 0\n",
      "_________________________________________________________________\n"
     ]
    }
   ],
   "source": [
    "model.summary()"
   ]
  },
  {
   "cell_type": "code",
   "execution_count": 71,
   "metadata": {},
   "outputs": [
    {
     "name": "stdout",
     "output_type": "stream",
     "text": [
      "{'airplane': 0, 'car': 1, 'cat': 2, 'dog': 3, 'flower': 4, 'fruit': 5, 'motorbike': 6, 'person': 7}\n"
     ]
    }
   ],
   "source": [
    "label_map = (test_generator.class_indices)\n",
    "print(label_map)"
   ]
  },
  {
   "cell_type": "code",
   "execution_count": 72,
   "metadata": {},
   "outputs": [],
   "source": [
    "model.compile(loss='categorical_crossentropy', optimizer=tf.optimizers.SGD(lr=0.001), metrics=['accuracy'])"
   ]
  },
  {
   "cell_type": "code",
   "execution_count": null,
   "metadata": {},
   "outputs": [],
   "source": [
    "len(train_generator)"
   ]
  },
  {
   "cell_type": "code",
   "execution_count": 73,
   "metadata": {},
   "outputs": [
    {
     "name": "stdout",
     "output_type": "stream",
     "text": [
      "Epoch 1/100\n",
      "186/186 [==============================] - 29s 155ms/step - loss: 1.2014 - accuracy: 0.5939\n",
      "Epoch 2/100\n",
      "186/186 [==============================] - 9s 50ms/step - loss: 0.9542 - accuracy: 0.6673\n",
      "Epoch 3/100\n",
      "186/186 [==============================] - 9s 50ms/step - loss: 0.8487 - accuracy: 0.6986\n",
      "Epoch 4/100\n",
      "186/186 [==============================] - 9s 50ms/step - loss: 0.7815 - accuracy: 0.7132\n",
      "Epoch 5/100\n",
      "186/186 [==============================] - 9s 50ms/step - loss: 0.7375 - accuracy: 0.7282\n",
      "Epoch 6/100\n",
      "186/186 [==============================] - 9s 50ms/step - loss: 0.6967 - accuracy: 0.7399\n",
      "Epoch 7/100\n",
      "186/186 [==============================] - 9s 51ms/step - loss: 0.6712 - accuracy: 0.7545\n",
      "Epoch 8/100\n",
      "186/186 [==============================] - 9s 51ms/step - loss: 0.6507 - accuracy: 0.7571\n",
      "Epoch 9/100\n",
      "186/186 [==============================] - 9s 51ms/step - loss: 0.6277 - accuracy: 0.7693\n",
      "Epoch 10/100\n",
      "186/186 [==============================] - 9s 50ms/step - loss: 0.6095 - accuracy: 0.7742\n",
      "Epoch 11/100\n",
      "186/186 [==============================] - 9s 51ms/step - loss: 0.5932 - accuracy: 0.7838\n",
      "Epoch 12/100\n",
      "186/186 [==============================] - 9s 50ms/step - loss: 0.5751 - accuracy: 0.7875\n",
      "Epoch 13/100\n",
      "186/186 [==============================] - 9s 51ms/step - loss: 0.5624 - accuracy: 0.7873\n",
      "Epoch 14/100\n",
      "186/186 [==============================] - 9s 51ms/step - loss: 0.5543 - accuracy: 0.7949\n",
      "Epoch 15/100\n",
      "186/186 [==============================] - 10s 52ms/step - loss: 0.5399 - accuracy: 0.7996\n",
      "Epoch 16/100\n",
      "186/186 [==============================] - 9s 51ms/step - loss: 0.5332 - accuracy: 0.8001\n",
      "Epoch 17/100\n",
      "186/186 [==============================] - 10s 51ms/step - loss: 0.5247 - accuracy: 0.8053\n",
      "Epoch 18/100\n",
      "186/186 [==============================] - 9s 51ms/step - loss: 0.5131 - accuracy: 0.8076\n",
      "Epoch 19/100\n",
      "186/186 [==============================] - 9s 50ms/step - loss: 0.5070 - accuracy: 0.8133\n",
      "Epoch 20/100\n",
      "186/186 [==============================] - 9s 51ms/step - loss: 0.5008 - accuracy: 0.8098\n",
      "Epoch 21/100\n",
      "186/186 [==============================] - 9s 51ms/step - loss: 0.4938 - accuracy: 0.8096\n",
      "Epoch 22/100\n",
      "186/186 [==============================] - 9s 51ms/step - loss: 0.4852 - accuracy: 0.8219\n",
      "Epoch 23/100\n",
      "186/186 [==============================] - 9s 51ms/step - loss: 0.4793 - accuracy: 0.8231\n",
      "Epoch 24/100\n",
      "186/186 [==============================] - 9s 51ms/step - loss: 0.4772 - accuracy: 0.8211\n",
      "Epoch 25/100\n",
      "186/186 [==============================] - 9s 51ms/step - loss: 0.4717 - accuracy: 0.8244\n",
      "Epoch 26/100\n",
      "186/186 [==============================] - 9s 51ms/step - loss: 0.4621 - accuracy: 0.8273\n",
      "Epoch 27/100\n",
      "186/186 [==============================] - 9s 51ms/step - loss: 0.4591 - accuracy: 0.8318\n",
      "Epoch 28/100\n",
      "186/186 [==============================] - 9s 51ms/step - loss: 0.4532 - accuracy: 0.8338\n",
      "Epoch 29/100\n",
      "186/186 [==============================] - 9s 51ms/step - loss: 0.4443 - accuracy: 0.8360\n",
      "Epoch 30/100\n",
      "186/186 [==============================] - 9s 51ms/step - loss: 0.4444 - accuracy: 0.8317\n",
      "Epoch 31/100\n",
      "186/186 [==============================] - 9s 51ms/step - loss: 0.4389 - accuracy: 0.8365\n",
      "Epoch 32/100\n",
      "186/186 [==============================] - 10s 52ms/step - loss: 0.4370 - accuracy: 0.8364\n",
      "Epoch 33/100\n",
      "186/186 [==============================] - 10s 53ms/step - loss: 0.4315 - accuracy: 0.8392\n",
      "Epoch 34/100\n",
      "186/186 [==============================] - 10s 52ms/step - loss: 0.4253 - accuracy: 0.8443\n",
      "Epoch 35/100\n",
      "186/186 [==============================] - 10s 52ms/step - loss: 0.4258 - accuracy: 0.8414\n",
      "Epoch 36/100\n",
      "186/186 [==============================] - 10s 52ms/step - loss: 0.4218 - accuracy: 0.8412\n",
      "Epoch 37/100\n",
      "186/186 [==============================] - 10s 52ms/step - loss: 0.4166 - accuracy: 0.8439\n",
      "Epoch 38/100\n",
      "186/186 [==============================] - 10s 52ms/step - loss: 0.4159 - accuracy: 0.8438\n",
      "Epoch 39/100\n",
      "186/186 [==============================] - 10s 52ms/step - loss: 0.4077 - accuracy: 0.8488\n",
      "Epoch 40/100\n",
      "186/186 [==============================] - 10s 52ms/step - loss: 0.4048 - accuracy: 0.8501\n",
      "Epoch 41/100\n",
      "186/186 [==============================] - 10s 51ms/step - loss: 0.4016 - accuracy: 0.8513\n",
      "Epoch 42/100\n",
      "186/186 [==============================] - 10s 53ms/step - loss: 0.3973 - accuracy: 0.8508\n",
      "Epoch 43/100\n",
      "186/186 [==============================] - 10s 52ms/step - loss: 0.3953 - accuracy: 0.8535\n",
      "Epoch 44/100\n",
      "186/186 [==============================] - 10s 52ms/step - loss: 0.3944 - accuracy: 0.8533\n",
      "Epoch 45/100\n",
      "186/186 [==============================] - 9s 51ms/step - loss: 0.3869 - accuracy: 0.8550\n",
      "Epoch 46/100\n",
      "186/186 [==============================] - 10s 51ms/step - loss: 0.3862 - accuracy: 0.8553\n",
      "Epoch 47/100\n",
      "186/186 [==============================] - 10s 52ms/step - loss: 0.3836 - accuracy: 0.8569\n",
      "Epoch 48/100\n",
      "186/186 [==============================] - 10s 52ms/step - loss: 0.3793 - accuracy: 0.8567\n",
      "Epoch 49/100\n",
      "186/186 [==============================] - 10s 53ms/step - loss: 0.3766 - accuracy: 0.8560\n",
      "Epoch 50/100\n",
      "186/186 [==============================] - 10s 52ms/step - loss: 0.3762 - accuracy: 0.8574\n",
      "Epoch 51/100\n",
      "186/186 [==============================] - 10s 53ms/step - loss: 0.3773 - accuracy: 0.8572\n",
      "Epoch 52/100\n",
      "186/186 [==============================] - 9s 51ms/step - loss: 0.3700 - accuracy: 0.8612\n",
      "Epoch 53/100\n",
      "186/186 [==============================] - 10s 52ms/step - loss: 0.3654 - accuracy: 0.8658\n",
      "Epoch 54/100\n",
      "186/186 [==============================] - ETA: 0s - loss: 0.3622 - accuracy: 0.86 - 10s 52ms/step - loss: 0.3622 - accuracy: 0.8649\n",
      "Epoch 55/100\n",
      "186/186 [==============================] - 10s 53ms/step - loss: 0.3619 - accuracy: 0.8616\n",
      "Epoch 56/100\n",
      "186/186 [==============================] - 10s 53ms/step - loss: 0.3614 - accuracy: 0.8639\n",
      "Epoch 57/100\n",
      "186/186 [==============================] - 10s 53ms/step - loss: 0.3592 - accuracy: 0.8614\n",
      "Epoch 58/100\n",
      "186/186 [==============================] - 10s 54ms/step - loss: 0.3555 - accuracy: 0.8644\n",
      "Epoch 59/100\n",
      "186/186 [==============================] - 10s 54ms/step - loss: 0.3482 - accuracy: 0.8686\n",
      "Epoch 60/100\n",
      "186/186 [==============================] - 10s 52ms/step - loss: 0.3492 - accuracy: 0.8701\n",
      "Epoch 61/100\n",
      "186/186 [==============================] - 9s 51ms/step - loss: 0.3486 - accuracy: 0.8668\n",
      "Epoch 62/100\n",
      "186/186 [==============================] - 9s 51ms/step - loss: 0.3431 - accuracy: 0.8737\n",
      "Epoch 63/100\n",
      "186/186 [==============================] - 9s 50ms/step - loss: 0.3457 - accuracy: 0.8678\n",
      "Epoch 64/100\n",
      "186/186 [==============================] - 9s 50ms/step - loss: 0.3435 - accuracy: 0.8679\n",
      "Epoch 65/100\n",
      "186/186 [==============================] - 9s 51ms/step - loss: 0.3341 - accuracy: 0.8763\n",
      "Epoch 66/100\n",
      "186/186 [==============================] - 9s 50ms/step - loss: 0.3369 - accuracy: 0.8718\n",
      "Epoch 67/100\n",
      "186/186 [==============================] - 9s 51ms/step - loss: 0.3355 - accuracy: 0.8753\n",
      "Epoch 68/100\n",
      "186/186 [==============================] - 9s 51ms/step - loss: 0.3323 - accuracy: 0.8779\n",
      "Epoch 69/100\n",
      "186/186 [==============================] - 9s 51ms/step - loss: 0.3303 - accuracy: 0.8735\n",
      "Epoch 70/100\n",
      "186/186 [==============================] - 9s 50ms/step - loss: 0.3290 - accuracy: 0.8757\n",
      "Epoch 71/100\n",
      "186/186 [==============================] - 9s 51ms/step - loss: 0.3223 - accuracy: 0.8821\n",
      "Epoch 72/100\n",
      "186/186 [==============================] - 9s 50ms/step - loss: 0.3257 - accuracy: 0.8780\n",
      "Epoch 73/100\n",
      "186/186 [==============================] - 9s 51ms/step - loss: 0.3214 - accuracy: 0.8774\n",
      "Epoch 74/100\n",
      "186/186 [==============================] - 9s 51ms/step - loss: 0.3203 - accuracy: 0.8822\n",
      "Epoch 75/100\n",
      "186/186 [==============================] - 9s 50ms/step - loss: 0.3190 - accuracy: 0.8824\n",
      "Epoch 76/100\n",
      "186/186 [==============================] - 9s 51ms/step - loss: 0.3154 - accuracy: 0.8810\n",
      "Epoch 77/100\n",
      "186/186 [==============================] - 9s 51ms/step - loss: 0.3129 - accuracy: 0.8805\n",
      "Epoch 78/100\n",
      "186/186 [==============================] - 9s 50ms/step - loss: 0.3093 - accuracy: 0.8837\n",
      "Epoch 79/100\n",
      "186/186 [==============================] - 9s 50ms/step - loss: 0.3115 - accuracy: 0.8856\n",
      "Epoch 80/100\n",
      "186/186 [==============================] - 9s 51ms/step - loss: 0.3084 - accuracy: 0.8834\n",
      "Epoch 81/100\n",
      "186/186 [==============================] - 9s 51ms/step - loss: 0.3074 - accuracy: 0.8836\n",
      "Epoch 82/100\n",
      "186/186 [==============================] - 9s 50ms/step - loss: 0.3022 - accuracy: 0.8863\n",
      "Epoch 83/100\n",
      "186/186 [==============================] - 9s 50ms/step - loss: 0.3048 - accuracy: 0.8812\n",
      "Epoch 84/100\n",
      "186/186 [==============================] - 9s 50ms/step - loss: 0.2987 - accuracy: 0.8891\n",
      "Epoch 85/100\n",
      "186/186 [==============================] - 9s 50ms/step - loss: 0.2986 - accuracy: 0.8852\n",
      "Epoch 86/100\n",
      "186/186 [==============================] - 9s 50ms/step - loss: 0.2926 - accuracy: 0.8879\n",
      "Epoch 87/100\n",
      "186/186 [==============================] - 9s 50ms/step - loss: 0.2936 - accuracy: 0.8903\n",
      "Epoch 88/100\n",
      "186/186 [==============================] - 9s 50ms/step - loss: 0.2901 - accuracy: 0.8930\n",
      "Epoch 89/100\n",
      "186/186 [==============================] - 9s 50ms/step - loss: 0.2941 - accuracy: 0.8869\n",
      "Epoch 90/100\n",
      "186/186 [==============================] - 9s 50ms/step - loss: 0.2916 - accuracy: 0.8928\n",
      "Epoch 91/100\n",
      "186/186 [==============================] - 9s 50ms/step - loss: 0.2883 - accuracy: 0.8926\n",
      "Epoch 92/100\n",
      "186/186 [==============================] - 9s 50ms/step - loss: 0.2893 - accuracy: 0.8915\n",
      "Epoch 93/100\n",
      "186/186 [==============================] - 9s 51ms/step - loss: 0.2822 - accuracy: 0.8982\n",
      "Epoch 94/100\n",
      "186/186 [==============================] - 9s 50ms/step - loss: 0.2793 - accuracy: 0.8977\n",
      "Epoch 95/100\n",
      "186/186 [==============================] - 9s 51ms/step - loss: 0.2785 - accuracy: 0.8942\n",
      "Epoch 96/100\n",
      "186/186 [==============================] - 9s 51ms/step - loss: 0.2777 - accuracy: 0.8970\n",
      "Epoch 97/100\n",
      "186/186 [==============================] - 9s 51ms/step - loss: 0.2752 - accuracy: 0.8968\n",
      "Epoch 98/100\n",
      "186/186 [==============================] - 9s 51ms/step - loss: 0.2741 - accuracy: 0.8968\n",
      "Epoch 99/100\n",
      "186/186 [==============================] - 9s 50ms/step - loss: 0.2717 - accuracy: 0.8989\n",
      "Epoch 100/100\n",
      "186/186 [==============================] - 9s 50ms/step - loss: 0.2743 - accuracy: 0.8985\n"
     ]
    },
    {
     "data": {
      "text/plain": [
       "<tensorflow.python.keras.callbacks.History at 0x14aca7580>"
      ]
     },
     "execution_count": 73,
     "metadata": {},
     "output_type": "execute_result"
    }
   ],
   "source": [
    "STEP_SIZE_TRAIN=train_generator.n//train_generator.batch_size\n",
    "STEP_SIZE_TEST=test_generator.n//test_generator.batch_size\n",
    "model.fit_generator(generator=train_generator,\n",
    "                    steps_per_epoch=STEP_SIZE_TRAIN,\n",
    "                    epochs=100\n",
    ")"
   ]
  },
  {
   "cell_type": "markdown",
   "metadata": {},
   "source": [
    "##### Test set ACCURACY"
   ]
  },
  {
   "cell_type": "code",
   "execution_count": 74,
   "metadata": {},
   "outputs": [
    {
     "name": "stdout",
     "output_type": "stream",
     "text": [
      "WARNING:tensorflow:From <ipython-input-74-96b1bbba9b71>:1: Model.evaluate_generator (from tensorflow.python.keras.engine.training) is deprecated and will be removed in a future version.\n",
      "Instructions for updating:\n",
      "Please use Model.evaluate, which supports generators.\n"
     ]
    },
    {
     "data": {
      "text/plain": [
       "[0.5414458513259888, 0.8038793206214905]"
      ]
     },
     "execution_count": 74,
     "metadata": {},
     "output_type": "execute_result"
    }
   ],
   "source": [
    "model.evaluate_generator(generator=test_generator,\n",
    "steps=STEP_SIZE_TEST)"
   ]
  },
  {
   "cell_type": "markdown",
   "metadata": {},
   "source": [
    "##### Predictions"
   ]
  },
  {
   "cell_type": "code",
   "execution_count": 78,
   "metadata": {},
   "outputs": [
    {
     "name": "stdout",
     "output_type": "stream",
     "text": [
      "Predicted Class is\n",
      "3\n"
     ]
    },
    {
     "data": {
      "image/png": "[encoded data removed]",
      "text/plain": [
       "<Figure size 432x288 with 1 Axes>"
      ]
     },
     "metadata": {
      "needs_background": "light"
     },
     "output_type": "display_data"
    }
   ],
   "source": [
    "import matplotlib.pyplot as plt\n",
    "from keras.preprocessing import image\n",
    "from PIL import Image\n",
    "test_image = image.load_img('/Users/imac/Desktop/image-dataset/_test/dog/dog_0077.jpg')\n",
    "plt.imshow(test_image)\n",
    "plt.title('This is my Image for Testing')\n",
    "test_image = test_image.resize((32, 32), Image.ANTIALIAS)\n",
    "test_image = image.img_to_array(test_image)\n",
    "test_image = np.expand_dims(test_image,axis=0)\n",
    "print(\"Predicted Class is\")\n",
    "print(model.predict_classes(test_image)[0])"
   ]
  },
  {
   "cell_type": "code",
   "execution_count": 76,
   "metadata": {},
   "outputs": [
    {
     "ename": "SyntaxError",
     "evalue": "invalid syntax (<ipython-input-76-7e0ca4e0949f>, line 1)",
     "output_type": "error",
     "traceback": [
      "\u001b[0;36m  File \u001b[0;32m\"<ipython-input-76-7e0ca4e0949f>\"\u001b[0;36m, line \u001b[0;32m1\u001b[0m\n\u001b[0;31m    'airplane': 0, 'car': 1, 'cat': 2, 'dog': 3, 'flower': 4, 'fruit': 5, 'motorbike': 6, 'person': 7\u001b[0m\n\u001b[0m                 ^\u001b[0m\n\u001b[0;31mSyntaxError\u001b[0m\u001b[0;31m:\u001b[0m invalid syntax\n"
     ]
    }
   ],
   "source": [
    "'airplane': 0, 'car': 1, 'cat': 2, 'dog': 3, 'flower': 4, 'fruit': 5, 'motorbike': 6, 'person': 7"
   ]
  },
  {
   "cell_type": "markdown",
   "metadata": {},
   "source": [
    "#### Run Following to Check Original Class Label Indices"
   ]
  },
  {
   "cell_type": "code",
   "execution_count": null,
   "metadata": {},
   "outputs": [],
   "source": [
    "test_generator.class_indices"
   ]
  }
 ],
 "metadata": {
  "kernelspec": {
   "display_name": "Python 3",
   "language": "python",
   "name": "python3"
  },
  "language_info": {
   "codemirror_mode": {
    "name": "ipython",
    "version": 3
   },
   "file_extension": ".py",
   "mimetype": "text/x-python",
   "name": "python",
   "nbconvert_exporter": "python",
   "pygments_lexer": "ipython3",
   "version": "3.8.5"
  }
 },
 "nbformat": 4,
 "nbformat_minor": 4
}
